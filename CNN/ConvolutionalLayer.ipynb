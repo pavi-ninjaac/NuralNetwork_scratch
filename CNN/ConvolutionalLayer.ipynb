{
  "nbformat": 4,
  "nbformat_minor": 0,
  "metadata": {
    "colab": {
      "name": "ConvolutionalLayer",
      "provenance": [],
      "authorship_tag": "ABX9TyMr0Eme2uCXX73UvZKp8Ygz",
      "include_colab_link": true
    },
    "kernelspec": {
      "name": "python3",
      "display_name": "Python 3"
    }
  },
  "cells": [
    {
      "cell_type": "markdown",
      "metadata": {
        "id": "view-in-github",
        "colab_type": "text"
      },
      "source": [
        "<a href=\"https://colab.research.google.com/github/pavi-ninjaac/NuralNetwork_scratch/blob/main/CNN/ConvolutionalLayer.ipynb\" target=\"_parent\"><img src=\"https://colab.research.google.com/assets/colab-badge.svg\" alt=\"Open In Colab\"/></a>"
      ]
    },
    {
      "cell_type": "code",
      "metadata": {
        "id": "_IpwmtBke1F9"
      },
      "source": [
        "# conolutional layer\r\n",
        "import numpy as np"
      ],
      "execution_count": null,
      "outputs": []
    },
    {
      "cell_type": "code",
      "metadata": {
        "id": "uDUignDQe8Vv"
      },
      "source": [
        "class con2D:\r\n",
        "  def __init__(self):\r\n",
        "    self.filter = None\r\n",
        "    self.bias = None\r\n",
        "    \r\n",
        "\r\n",
        "  \r\n",
        "  #forward propogaton\r\n",
        "  def forward_propogation(self, image , filter , kernal_size, strides = (1,1) ):\r\n",
        "    \"\"\"Convolute the image with the filter and strids\"\"\"\r\n",
        "    input_dim , _ , img_channel = image.shape #input dimensions\r\n",
        "    f_channel = img_channel               #filter channel must match with the image channel\r\n",
        "    no_filters = filter                   # number of filters\r\n",
        "    f_dim , _ = kernal_size               # get the filter size\r\n",
        "    s , _ = strides\r\n",
        "    f_size = (no_filters , f_channel , f_dim , f_dim) # get the strides dimentions\r\n",
        "\r\n",
        "    #initialize the filter\r\n",
        "    \"\"\" Initalize the filter with the noraml distribution with the standard deviation inversely proportional the square root of the number of units\"\"\"\r\n",
        "    sdv = 1.0 / np.sqrt(np.prod(f_size))\r\n",
        "    self.filter = np.random.normal(loc = 0, scale = sdv, size = f_size)\r\n",
        "    self.bias = np.zeros((no_filters , 1)) # each for the one filters \r\n",
        "\r\n",
        "    #calculate the output dimension, so according to that i can create the empty array to store value\r\n",
        "    out_dim = ((input_dim - f_dim) / s) + 1\r\n",
        "\r\n",
        "    #create the empty array with output dimetions\r\n",
        "    self.output = np.zeros((no_filters , out_dim, out_dim )) #syntax np.zeros(channel , row , col)\r\n",
        "\r\n",
        "    for curr_filter in range(no_filters): # for loop over the number of filters\r\n",
        "      curr_y = out_y =0\r\n",
        "      #move vertically over the image\r\n",
        "      while curr_y + f_dim <= input_dim:\r\n",
        "        curr_x , out_x = 0\r\n",
        "        #move horizondally\r\n",
        "        while curr_x + f_dim <= input_dim:\r\n",
        "          \"\"\"perform convolution operation on the image\"\"\"\r\n",
        "          self.output[curr_filter , curr_y , curr_x] = np.sum(self.filter[curr_filter] * image[: , curr_y : curr_y + f_dim , curr_x : curr_x + f_dim]) + self.bias[curr_filter]\r\n",
        "\r\n",
        "          curr_x += s\r\n",
        "          out_x +=1\r\n",
        "        curr_y += s\r\n",
        "        out_y += 1\r\n",
        "  \r\n",
        "    return output\r\n",
        "\r\n",
        "    def back_propogation(self):\r\n",
        "      pass\r\n",
        "\r\n"
      ],
      "execution_count": null,
      "outputs": []
    },
    {
      "cell_type": "code",
      "metadata": {
        "id": "aVoaFlOtZHF6"
      },
      "source": [
        "class MaxPooling2D:\r\n",
        "  def __init__(self , pool_size = 1, strides=None):\r\n",
        "    self.pool_size = pool_size #getting the kernal size for pooling the layer out\r\n",
        "    self.strides = strides\r\n",
        "    pass\r\n",
        "  def forward_propogation(self , image):\r\n",
        "\r\n",
        "    \"\"\" downsample of the image using the kernal size and strides\"\"\"\r\n",
        "    h_prev , w_prev , img_channel = image.shape    # shape of the image\r\n",
        "    # calculate output dimensions after the maxpooling operation.\r\n",
        "    h = int((h_prev - self.pool_size)/self.strides)+1 \r\n",
        "    w = int((w_prev - self.pool_size)/self.strides)+1\r\n",
        "    \r\n",
        "    # create a matrix to hold the values of the maxpooling operation.\r\n",
        "    self.output = np.zeros((n_c, h, w))\r\n",
        "    # slide the window over every part of the image using stride s. Take the maximum value at each step.\r\n",
        "    for i in range(n_c):\r\n",
        "        curr_y = out_y = 0\r\n",
        "        # slide the max pooling window vertically across the image\r\n",
        "        while curr_y + f <= h_prev:\r\n",
        "            curr_x = out_x = 0\r\n",
        "            # slide the max pooling window horizontally across the image\r\n",
        "            while curr_x + f <= w_prev:\r\n",
        "                # choose the maximum value within the window at each step and store it to the output matrix\r\n",
        "                self.output[i, out_y, out_x] = np.max(image[i, curr_y:curr_y+f, curr_x:curr_x+f])\r\n",
        "                curr_x += s\r\n",
        "                out_x += 1\r\n",
        "            curr_y += s\r\n",
        "            out_y += 1\r\n",
        "    return self.output\r\n"
      ],
      "execution_count": null,
      "outputs": []
    },
    {
      "cell_type": "code",
      "metadata": {
        "colab": {
          "base_uri": "https://localhost:8080/"
        },
        "id": "MM_PPS7JkOmW",
        "outputId": "a5cb7a5e-cba9-4731-f7c3-6b54aa1f2eaa"
      },
      "source": [
        "f_size = (2,3,3)\r\n",
        "sdv = 1.0 / np.sqrt(np.prod(f_size))\r\n",
        "sd = np.random.normal(loc = 0, scale = sdv, size = f_size)\r\n",
        "sd"
      ],
      "execution_count": null,
      "outputs": [
        {
          "output_type": "execute_result",
          "data": {
            "text/plain": [
              "array([[[-0.2358713 ,  0.26419976, -0.05489258],\n",
              "        [-0.07005125, -0.03529608, -0.13862036],\n",
              "        [-0.42406881,  0.16785173, -0.26264137]],\n",
              "\n",
              "       [[ 0.27956213,  0.14691208,  0.31053885],\n",
              "        [-0.21537503,  0.16352159,  0.0658891 ],\n",
              "        [-0.65043857,  0.19225158,  0.08999125]]])"
            ]
          },
          "metadata": {
            "tags": []
          },
          "execution_count": 18
        }
      ]
    },
    {
      "cell_type": "code",
      "metadata": {
        "colab": {
          "base_uri": "https://localhost:8080/"
        },
        "id": "tpvgvIc-kQrb",
        "outputId": "18e7897c-eff6-4ef1-92c9-9ee342b9db3a"
      },
      "source": [
        "sd[:,0:1 , 0:1]"
      ],
      "execution_count": null,
      "outputs": [
        {
          "output_type": "execute_result",
          "data": {
            "text/plain": [
              "array([[[-0.2358713 ]],\n",
              "\n",
              "       [[ 0.27956213]]])"
            ]
          },
          "metadata": {
            "tags": []
          },
          "execution_count": 20
        }
      ]
    },
    {
      "cell_type": "code",
      "metadata": {
        "colab": {
          "base_uri": "https://localhost:8080/"
        },
        "id": "bXDJHeRks79Z",
        "outputId": "e685f89f-e294-4e59-9c59-419407c0c04f"
      },
      "source": [
        "np.zeros((3,1))"
      ],
      "execution_count": null,
      "outputs": [
        {
          "output_type": "execute_result",
          "data": {
            "text/plain": [
              "array([[0.],\n",
              "       [0.],\n",
              "       [0.]])"
            ]
          },
          "metadata": {
            "tags": []
          },
          "execution_count": 23
        }
      ]
    },
    {
      "cell_type": "code",
      "metadata": {
        "id": "rHIigI3DugQ7"
      },
      "source": [
        ""
      ],
      "execution_count": null,
      "outputs": []
    }
  ]
}